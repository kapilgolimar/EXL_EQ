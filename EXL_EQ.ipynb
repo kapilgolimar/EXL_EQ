{
 "cells": [
  {
   "cell_type": "code",
   "execution_count": 1,
   "metadata": {
    "collapsed": true
   },
   "outputs": [],
   "source": [
    "\"\"\"\n",
    "Created on Wed Jan 1 11:36:03 2018\n",
    "\n",
    "@author: kapil\n",
    "\"\"\"\n",
    "import numpy as np\n",
    "import matplotlib.pyplot as plt\n",
    "import pandas as pd"
   ]
  },
  {
   "cell_type": "code",
   "execution_count": 2,
   "metadata": {
    "collapsed": true
   },
   "outputs": [],
   "source": [
    "xlsx = pd.ExcelFile('Data.xlsx')\n",
    "dg = pd.read_excel(xlsx, 'Demographics')\n",
    "sm = pd.read_excel(xlsx,'Store Mapping')\n",
    "cm = pd.read_excel(xlsx,'Category Mapping')\n",
    "pi = pd.read_excel(xlsx,'Ping_Information')"
   ]
  },
  {
   "cell_type": "code",
   "execution_count": 3,
   "metadata": {
    "collapsed": true
   },
   "outputs": [],
   "source": [
    "dg=dg.drop(['Unnamed: 0','ID'] ,1)\n",
    "cm=cm.drop('Unnamed: 0' ,1)\n",
    "sm=sm.drop('Unnamed: 0' ,1)\n",
    "pi=pi.drop('Unnamed: 0' ,1)\n",
    "pi['floor'] = pi['floor'].astype('category')\n",
    "pi['floor'] = pi['floor'].cat.codes"
   ]
  },
  {
   "cell_type": "markdown",
   "metadata": {},
   "source": [
    "#### This will give us ping info of customer near the store."
   ]
  },
  {
   "cell_type": "code",
   "execution_count": 4,
   "metadata": {
    "collapsed": true
   },
   "outputs": [],
   "source": [
    "pi = pi[pi['lng'] < max(sm['longitude'])]\n",
    "pi = pi[pi['lng'] > min(sm['longitude'])]\n",
    "pi = pi[pi['lat'] < max(sm['latitude'])]\n",
    "pi = pi[pi['lat'] > min(sm['latitude'])]"
   ]
  },
  {
   "cell_type": "markdown",
   "metadata": {},
   "source": [
    "#### this haversine function will help in determining distance between given latitude / longitude pair."
   ]
  },
  {
   "cell_type": "code",
   "execution_count": 5,
   "metadata": {
    "collapsed": true
   },
   "outputs": [],
   "source": [
    "def haversine(lon1, lat1, lon2, lat2):\n",
    "\n",
    "    dlon = lon2 - lon1 \n",
    "    dlat = lat2 - lat1 \n",
    "    a = np.sin(dlat/2)**2 + np.cos(lat1)*np.cos(lat2)*np.sin(dlon/2)**2\n",
    "    c = 2*np.arcsin(np.sqrt(a)) \n",
    "    r = 6371 # Radius of earth in kilometers. Use 3956 for miles\n",
    "    return c * r        "
   ]
  },
  {
   "cell_type": "markdown",
   "metadata": {},
   "source": [
    "#### Comparing ground floor shop with ground floor ping info."
   ]
  },
  {
   "cell_type": "code",
   "execution_count": 6,
   "metadata": {},
   "outputs": [
    {
     "name": "stderr",
     "output_type": "stream",
     "text": [
      "C:\\Users\\HP\\Anaconda3_5\\envs\\py35\\lib\\site-packages\\ipykernel_launcher.py:12: SettingWithCopyWarning: \n",
      "A value is trying to be set on a copy of a slice from a DataFrame.\n",
      "Try using .loc[row_indexer,col_indexer] = value instead\n",
      "\n",
      "See the caveats in the documentation: http://pandas.pydata.org/pandas-docs/stable/indexing.html#indexing-view-versus-copy\n",
      "  if sys.path[0] == '':\n"
     ]
    }
   ],
   "source": [
    "pi0 = pi[pi['floor'] == 0]\n",
    "sm0 = sm[sm['Floor_Index']==0]\n",
    "shop = []\n",
    "for index, j in pi0.iterrows():\n",
    "    dis = []\n",
    "    name =[]\n",
    "    for index, i in sm0.iterrows():\n",
    "        a = haversine(i['longitude'],i['latitude'],j['lng'],j['lat'])\n",
    "        dis.append(a)\n",
    "        name.append(i['Store_Name'])\n",
    "    shop.append(name[dis.index(min(dis))] )    \n",
    "pi0['shop']= shop #NEW column 'shop' is created which will contain closest shop correspondin to given ping info.  "
   ]
  },
  {
   "cell_type": "markdown",
   "metadata": {},
   "source": [
    "#### Comparing 1st floor shop with 1st floor ping info."
   ]
  },
  {
   "cell_type": "code",
   "execution_count": 7,
   "metadata": {},
   "outputs": [
    {
     "name": "stderr",
     "output_type": "stream",
     "text": [
      "C:\\Users\\HP\\Anaconda3_5\\envs\\py35\\lib\\site-packages\\ipykernel_launcher.py:12: SettingWithCopyWarning: \n",
      "A value is trying to be set on a copy of a slice from a DataFrame.\n",
      "Try using .loc[row_indexer,col_indexer] = value instead\n",
      "\n",
      "See the caveats in the documentation: http://pandas.pydata.org/pandas-docs/stable/indexing.html#indexing-view-versus-copy\n",
      "  if sys.path[0] == '':\n"
     ]
    }
   ],
   "source": [
    "pi1 = pi[pi['floor'] == 1]\n",
    "sm1 = sm[sm['Floor_Index']==1]\n",
    "shop = []\n",
    "for index, j in pi1.iterrows():\n",
    "    dis = []\n",
    "    name =[]\n",
    "    for index, i in sm1.iterrows():\n",
    "        a = haversine(i['longitude'],i['latitude'],j['lng'],j['lat'])\n",
    "        dis.append(a)\n",
    "        name.append(i['Store_Name'])\n",
    "    shop.append(name[dis.index(min(dis))] )     \n",
    "pi1['shop']= shop #NEW column 'shop' is created which will contain closest shop correspondin to given ping info.  "
   ]
  },
  {
   "cell_type": "markdown",
   "metadata": {},
   "source": [
    "#### Comparing 2nd floor shop with 2nd floor ping info."
   ]
  },
  {
   "cell_type": "code",
   "execution_count": 8,
   "metadata": {},
   "outputs": [
    {
     "name": "stderr",
     "output_type": "stream",
     "text": [
      "C:\\Users\\HP\\Anaconda3_5\\envs\\py35\\lib\\site-packages\\ipykernel_launcher.py:12: SettingWithCopyWarning: \n",
      "A value is trying to be set on a copy of a slice from a DataFrame.\n",
      "Try using .loc[row_indexer,col_indexer] = value instead\n",
      "\n",
      "See the caveats in the documentation: http://pandas.pydata.org/pandas-docs/stable/indexing.html#indexing-view-versus-copy\n",
      "  if sys.path[0] == '':\n"
     ]
    }
   ],
   "source": [
    "pi2 = pi[pi['floor'] == 2]\n",
    "sm2 = sm[sm['Floor_Index']==2]\n",
    "shop = []\n",
    "for index, j in pi2.iterrows():\n",
    "    dis = []\n",
    "    name =[]\n",
    "    for index, i in sm2.iterrows():\n",
    "        a = haversine(i['longitude'],i['latitude'],j['lng'],j['lat'])\n",
    "        dis.append(a)\n",
    "        name.append(i['Store_Name'])\n",
    "    shop.append(name[dis.index(min(dis))] )\n",
    "pi2['shop']= shop #NEW column 'shop' is created which will contain closest shop correspondin to given ping info.  "
   ]
  },
  {
   "cell_type": "markdown",
   "metadata": {},
   "source": [
    "#### Comparing 3rd floor shop with 3rd floor ping info."
   ]
  },
  {
   "cell_type": "code",
   "execution_count": 9,
   "metadata": {},
   "outputs": [
    {
     "name": "stderr",
     "output_type": "stream",
     "text": [
      "C:\\Users\\HP\\Anaconda3_5\\envs\\py35\\lib\\site-packages\\ipykernel_launcher.py:12: SettingWithCopyWarning: \n",
      "A value is trying to be set on a copy of a slice from a DataFrame.\n",
      "Try using .loc[row_indexer,col_indexer] = value instead\n",
      "\n",
      "See the caveats in the documentation: http://pandas.pydata.org/pandas-docs/stable/indexing.html#indexing-view-versus-copy\n",
      "  if sys.path[0] == '':\n"
     ]
    }
   ],
   "source": [
    "pi3 = pi[pi['floor'] == 3]\n",
    "sm3 = sm[sm['Floor_Index']==3]\n",
    "shop = []\n",
    "for index, j in pi3.iterrows():\n",
    "    dis = []\n",
    "    name =[]\n",
    "    for index, i in sm3.iterrows():\n",
    "        a = haversine(i['longitude'],i['latitude'],j['lng'],j['lat'])\n",
    "        dis.append(a)\n",
    "        name.append(i['Store_Name'])\n",
    "    shop.append(name[dis.index(min(dis))] )\n",
    "pi3['shop']= shop #NEW column 'shop' is created which will contain closest shop correspondin to given ping info.  "
   ]
  },
  {
   "cell_type": "markdown",
   "metadata": {},
   "source": [
    "#### Comparing 4th floor shop with 4th floor ping info."
   ]
  },
  {
   "cell_type": "code",
   "execution_count": 10,
   "metadata": {},
   "outputs": [
    {
     "name": "stderr",
     "output_type": "stream",
     "text": [
      "C:\\Users\\HP\\Anaconda3_5\\envs\\py35\\lib\\site-packages\\ipykernel_launcher.py:12: SettingWithCopyWarning: \n",
      "A value is trying to be set on a copy of a slice from a DataFrame.\n",
      "Try using .loc[row_indexer,col_indexer] = value instead\n",
      "\n",
      "See the caveats in the documentation: http://pandas.pydata.org/pandas-docs/stable/indexing.html#indexing-view-versus-copy\n",
      "  if sys.path[0] == '':\n"
     ]
    }
   ],
   "source": [
    "pi4 = pi[pi['floor'] == 4]\n",
    "sm4 = sm[sm['Floor_Index']==4]\n",
    "shop = []\n",
    "for index, j in pi4.iterrows():\n",
    "    dis = []\n",
    "    name =[]\n",
    "    for index, i in sm4.iterrows():\n",
    "        a = haversine(i['longitude'],i['latitude'],j['lng'],j['lat'])\n",
    "        dis.append(a)\n",
    "        name.append(i['Store_Name'])\n",
    "    shop.append(name[dis.index(min(dis))] )\n",
    "pi4['shop']= shop #NEW column 'shop' is created which will contain closest shop correspondin to given ping info.  "
   ]
  },
  {
   "cell_type": "markdown",
   "metadata": {},
   "source": [
    "#### concating data of each floor.    "
   ]
  },
  {
   "cell_type": "code",
   "execution_count": 11,
   "metadata": {
    "collapsed": true
   },
   "outputs": [],
   "source": [
    "pinfo = [pi0,pi1,pi2,pi3,pi4]        \n",
    "pinfo = pd.concat(pinfo)       "
   ]
  },
  {
   "cell_type": "code",
   "execution_count": 12,
   "metadata": {
    "collapsed": true
   },
   "outputs": [],
   "source": [
    "data=pinfo.drop(['lat','lng','x','y'] ,1)  \n",
    "data = data.rename(columns={'Shopper_ID': 'Shopper_Id'})"
   ]
  },
  {
   "cell_type": "markdown",
   "metadata": {},
   "source": [
    "####  Merging data."
   ]
  },
  {
   "cell_type": "code",
   "execution_count": 13,
   "metadata": {
    "collapsed": true
   },
   "outputs": [],
   "source": [
    "data1 = pd.merge(data, dg, on='Shopper_Id', how='outer')\n",
    "data1 = data1.rename(columns={'shop': 'Store_Name'})      \n",
    "data2 = pd.merge(data1,cm , on='Store_Name', how='outer')   \n",
    "data = data2"
   ]
  },
  {
   "cell_type": "code",
   "execution_count": 15,
   "metadata": {},
   "outputs": [],
   "source": [
    "data=data.drop(['floor'] ,1)"
   ]
  },
  {
   "cell_type": "code",
   "execution_count": 16,
   "metadata": {},
   "outputs": [
    {
     "data": {
      "text/html": [
       "<div>\n",
       "<style>\n",
       "    .dataframe thead tr:only-child th {\n",
       "        text-align: right;\n",
       "    }\n",
       "\n",
       "    .dataframe thead th {\n",
       "        text-align: left;\n",
       "    }\n",
       "\n",
       "    .dataframe tbody tr th {\n",
       "        vertical-align: top;\n",
       "    }\n",
       "</style>\n",
       "<table border=\"1\" class=\"dataframe\">\n",
       "  <thead>\n",
       "    <tr style=\"text-align: right;\">\n",
       "      <th></th>\n",
       "      <th>Shopper_Id</th>\n",
       "      <th>seenTimestamp</th>\n",
       "      <th>Store_Name</th>\n",
       "      <th>Age</th>\n",
       "      <th>Gender</th>\n",
       "      <th>Marital_Status</th>\n",
       "      <th>Owns_Home</th>\n",
       "      <th>Number_of_Children_under_18_years_of_age</th>\n",
       "      <th>Broad_Category</th>\n",
       "      <th>Fine_Category</th>\n",
       "    </tr>\n",
       "  </thead>\n",
       "  <tbody>\n",
       "    <tr>\n",
       "      <th>0</th>\n",
       "      <td>Shopper_360</td>\n",
       "      <td>2016-10-13T18:27:38.000Z</td>\n",
       "      <td>Marbles: The Brain Store</td>\n",
       "      <td>48.0</td>\n",
       "      <td>M</td>\n",
       "      <td>S</td>\n",
       "      <td>N</td>\n",
       "      <td>0.0</td>\n",
       "      <td>Retail</td>\n",
       "      <td>Toy Stores</td>\n",
       "    </tr>\n",
       "    <tr>\n",
       "      <th>1</th>\n",
       "      <td>Shopper_360</td>\n",
       "      <td>2016-10-11T21:33:52.000Z</td>\n",
       "      <td>Marbles: The Brain Store</td>\n",
       "      <td>48.0</td>\n",
       "      <td>M</td>\n",
       "      <td>S</td>\n",
       "      <td>N</td>\n",
       "      <td>0.0</td>\n",
       "      <td>Retail</td>\n",
       "      <td>Toy Stores</td>\n",
       "    </tr>\n",
       "    <tr>\n",
       "      <th>2</th>\n",
       "      <td>Shopper_360</td>\n",
       "      <td>2016-10-14T21:39:01.000Z</td>\n",
       "      <td>Marbles: The Brain Store</td>\n",
       "      <td>48.0</td>\n",
       "      <td>M</td>\n",
       "      <td>S</td>\n",
       "      <td>N</td>\n",
       "      <td>0.0</td>\n",
       "      <td>Retail</td>\n",
       "      <td>Toy Stores</td>\n",
       "    </tr>\n",
       "    <tr>\n",
       "      <th>3</th>\n",
       "      <td>Shopper_360</td>\n",
       "      <td>2016-10-07T02:34:15.000Z</td>\n",
       "      <td>Marbles: The Brain Store</td>\n",
       "      <td>48.0</td>\n",
       "      <td>M</td>\n",
       "      <td>S</td>\n",
       "      <td>N</td>\n",
       "      <td>0.0</td>\n",
       "      <td>Retail</td>\n",
       "      <td>Toy Stores</td>\n",
       "    </tr>\n",
       "    <tr>\n",
       "      <th>4</th>\n",
       "      <td>Shopper_360</td>\n",
       "      <td>2016-10-16T02:40:00.000Z</td>\n",
       "      <td>Marbles: The Brain Store</td>\n",
       "      <td>48.0</td>\n",
       "      <td>M</td>\n",
       "      <td>S</td>\n",
       "      <td>N</td>\n",
       "      <td>0.0</td>\n",
       "      <td>Retail</td>\n",
       "      <td>Toy Stores</td>\n",
       "    </tr>\n",
       "  </tbody>\n",
       "</table>\n",
       "</div>"
      ],
      "text/plain": [
       "    Shopper_Id             seenTimestamp                Store_Name   Age  \\\n",
       "0  Shopper_360  2016-10-13T18:27:38.000Z  Marbles: The Brain Store  48.0   \n",
       "1  Shopper_360  2016-10-11T21:33:52.000Z  Marbles: The Brain Store  48.0   \n",
       "2  Shopper_360  2016-10-14T21:39:01.000Z  Marbles: The Brain Store  48.0   \n",
       "3  Shopper_360  2016-10-07T02:34:15.000Z  Marbles: The Brain Store  48.0   \n",
       "4  Shopper_360  2016-10-16T02:40:00.000Z  Marbles: The Brain Store  48.0   \n",
       "\n",
       "  Gender Marital_Status Owns_Home  Number_of_Children_under_18_years_of_age  \\\n",
       "0      M              S         N                                       0.0   \n",
       "1      M              S         N                                       0.0   \n",
       "2      M              S         N                                       0.0   \n",
       "3      M              S         N                                       0.0   \n",
       "4      M              S         N                                       0.0   \n",
       "\n",
       "  Broad_Category Fine_Category  \n",
       "0         Retail    Toy Stores  \n",
       "1         Retail    Toy Stores  \n",
       "2         Retail    Toy Stores  \n",
       "3         Retail    Toy Stores  \n",
       "4         Retail    Toy Stores  "
      ]
     },
     "execution_count": 16,
     "metadata": {},
     "output_type": "execute_result"
    }
   ],
   "source": [
    "#data of ever shopper at different timestamp.\n",
    "data.head()"
   ]
  },
  {
   "cell_type": "code",
   "execution_count": 23,
   "metadata": {},
   "outputs": [
    {
     "data": {
      "image/png": "[encoded data removed]",
      "text/plain": [
       "<matplotlib.figure.Figure at 0x5211edd438>"
      ]
     },
     "metadata": {},
     "output_type": "display_data"
    }
   ],
   "source": [
    "#histogram according to age against diff. Broad catagory.\n",
    "data.hist(column=\"Age\",by=\"Broad_Category\",bins=50)\n",
    "plt.show()"
   ]
  },
  {
   "cell_type": "code",
   "execution_count": 30,
   "metadata": {},
   "outputs": [
    {
     "data": {
      "image/png": "[encoded data removed]",
      "text/plain": [
       "<matplotlib.figure.Figure at 0x5212381780>"
      ]
     },
     "metadata": {},
     "output_type": "display_data"
    }
   ],
   "source": [
    "#histogram according to age against diff. Broad catagory.\n",
    "data.hist(column=\"Age\",by=\"Fine_Category\",bins=50)\n",
    "plt.show()"
   ]
  },
  {
   "cell_type": "code",
   "execution_count": 31,
   "metadata": {
    "collapsed": true
   },
   "outputs": [],
   "source": [
    "shopper = []\n",
    "shop = []\n",
    "fine = []\n",
    "for i in list(dg['Shopper_Id']):\n",
    "    data1 = data[i == data['Shopper_Id']]\n",
    "    shopper.append(i)\n",
    "    shop.append(data1['Store_Name'].value_counts().idxmax())\n",
    "    fine.append(data1['Fine_Category'].value_counts().idxmax())"
   ]
  },
  {
   "cell_type": "code",
   "execution_count": 32,
   "metadata": {
    "collapsed": true
   },
   "outputs": [],
   "source": [
    "d = {'Shopper ID': shopper,'Top Category Visited' :fine , 'Top Store Visited': shop }    \n",
    "df = pd.DataFrame(data=d)"
   ]
  },
  {
   "cell_type": "markdown",
   "metadata": {},
   "source": [
    "#### This dataframe will give us intrest of every shopper."
   ]
  },
  {
   "cell_type": "code",
   "execution_count": 33,
   "metadata": {},
   "outputs": [
    {
     "data": {
      "text/html": [
       "<div>\n",
       "<style>\n",
       "    .dataframe thead tr:only-child th {\n",
       "        text-align: right;\n",
       "    }\n",
       "\n",
       "    .dataframe thead th {\n",
       "        text-align: left;\n",
       "    }\n",
       "\n",
       "    .dataframe tbody tr th {\n",
       "        vertical-align: top;\n",
       "    }\n",
       "</style>\n",
       "<table border=\"1\" class=\"dataframe\">\n",
       "  <thead>\n",
       "    <tr style=\"text-align: right;\">\n",
       "      <th></th>\n",
       "      <th>Shopper ID</th>\n",
       "      <th>Top Category Visited</th>\n",
       "      <th>Top Store Visited</th>\n",
       "    </tr>\n",
       "  </thead>\n",
       "  <tbody>\n",
       "    <tr>\n",
       "      <th>0</th>\n",
       "      <td>Shopper_1</td>\n",
       "      <td>Apparel And Accessories</td>\n",
       "      <td>Fossil</td>\n",
       "    </tr>\n",
       "    <tr>\n",
       "      <th>1</th>\n",
       "      <td>Shopper_2</td>\n",
       "      <td>Furniture And Decor</td>\n",
       "      <td>Forever Flawless</td>\n",
       "    </tr>\n",
       "    <tr>\n",
       "      <th>2</th>\n",
       "      <td>Shopper_3</td>\n",
       "      <td>Furniture And Decor</td>\n",
       "      <td>Kiehl's</td>\n",
       "    </tr>\n",
       "    <tr>\n",
       "      <th>3</th>\n",
       "      <td>Shopper_4</td>\n",
       "      <td>Apparel And Accessories</td>\n",
       "      <td>Sunglass Hut</td>\n",
       "    </tr>\n",
       "    <tr>\n",
       "      <th>4</th>\n",
       "      <td>Shopper_5</td>\n",
       "      <td>Furniture And Decor</td>\n",
       "      <td>Kiehl's</td>\n",
       "    </tr>\n",
       "  </tbody>\n",
       "</table>\n",
       "</div>"
      ],
      "text/plain": [
       "  Shopper ID     Top Category Visited  Top Store Visited\n",
       "0  Shopper_1  Apparel And Accessories             Fossil\n",
       "1  Shopper_2      Furniture And Decor  Forever Flawless \n",
       "2  Shopper_3      Furniture And Decor            Kiehl's\n",
       "3  Shopper_4  Apparel And Accessories       Sunglass Hut\n",
       "4  Shopper_5      Furniture And Decor            Kiehl's"
      ]
     },
     "execution_count": 33,
     "metadata": {},
     "output_type": "execute_result"
    }
   ],
   "source": [
    "df.head()"
   ]
  },
  {
   "cell_type": "code",
   "execution_count": null,
   "metadata": {
    "collapsed": true
   },
   "outputs": [],
   "source": []
  }
 ],
 "metadata": {
  "kernelspec": {
   "display_name": "Python 3",
   "language": "python",
   "name": "python3"
  },
  "language_info": {
   "codemirror_mode": {
    "name": "ipython",
    "version": 3
   },
   "file_extension": ".py",
   "mimetype": "text/x-python",
   "name": "python",
   "nbconvert_exporter": "python",
   "pygments_lexer": "ipython3",
   "version": "3.5.4"
  }
 },
 "nbformat": 4,
 "nbformat_minor": 2
}
